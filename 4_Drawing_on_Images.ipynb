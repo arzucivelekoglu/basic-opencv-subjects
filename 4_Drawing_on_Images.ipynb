{
  "nbformat": 4,
  "nbformat_minor": 0,
  "metadata": {
    "colab": {
      "provenance": [],
      "authorship_tag": "ABX9TyNC41daheCK6v1d59cwwzqW",
      "include_colab_link": true
    },
    "kernelspec": {
      "name": "python3",
      "display_name": "Python 3"
    },
    "language_info": {
      "name": "python"
    }
  },
  "cells": [
    {
      "cell_type": "markdown",
      "metadata": {
        "id": "view-in-github",
        "colab_type": "text"
      },
      "source": [
        "<a href=\"https://colab.research.google.com/github/arzucivelekoglu/basic-opencv-subjects/blob/main/4_Drawing_on_Images.ipynb\" target=\"_parent\"><img src=\"https://colab.research.google.com/assets/colab-badge.svg\" alt=\"Open In Colab\"/></a>"
      ]
    },
    {
      "cell_type": "markdown",
      "source": [
        "# **Drawing images and shapes using OpenCV**\n",
        "\n",
        "OpenCV kullanarak şekiller çizeceğiz."
      ],
      "metadata": {
        "id": "8ZbgfVb8ajUd"
      }
    },
    {
      "cell_type": "code",
      "execution_count": 19,
      "metadata": {
        "id": "B5PL3qSQaUyA"
      },
      "outputs": [],
      "source": [
        "# Numpy'ın zeros ve ones gibi fonksiyonları kullanarak boş tuvaller oluşturacağız\n",
        "\n",
        "import numpy as np\n",
        "import cv2\n",
        "import matplotlib.pyplot as plt\n",
        "\n",
        "rgb_img = np.zeros((512,512,3), np.uint8)\n",
        "gray_img = np.zeros((512,512), np.uint8)"
      ]
    },
    {
      "cell_type": "code",
      "source": [
        "plt.imshow(cv2.cvtColor(rgb_img, cv2.COLOR_BGR2RGB))\n",
        "plt.title(\"Black Canvas - RGB Color \")\n",
        "plt.show()\n",
        "\n",
        "plt.imshow(gray_img, cmap='gray')\n",
        "plt.title(\"Black Canvas - Grayscale\")\n",
        "plt.show()"
      ],
      "metadata": {
        "colab": {
          "base_uri": "https://localhost:8080/",
          "height": 545
        },
        "id": "y2ldUYREbR5l",
        "outputId": "aa6d4f41-6693-4d6b-ed50-44457840d734"
      },
      "execution_count": 9,
      "outputs": [
        {
          "output_type": "display_data",
          "data": {
            "text/plain": [
              "<Figure size 432x288 with 1 Axes>"
            ],
            "image/png": "[encoded data removed]"
          },
          "metadata": {
            "needs_background": "light"
          }
        },
        {
          "output_type": "display_data",
          "data": {
            "text/plain": [
              "<Figure size 432x288 with 1 Axes>"
            ],
            "image/png": "[encoded data removed]"
          },
          "metadata": {
            "needs_background": "light"
          }
        }
      ]
    },
    {
      "cell_type": "markdown",
      "source": [
        "## **Drawing Line**\n",
        "Siyah karemizin üzerine bir çizgi çizelim.\n",
        "\n",
        "\n",
        "\n",
        "```\n",
        "cv2.line(image, start_point, end_point, color, thickness) \n",
        "```\n",
        "⚡ **start_point** and **end_point** -->  **(X coordinate value, Y coordinate value)**. \n",
        "\n"
      ],
      "metadata": {
        "id": "C9Hu9OLocCaR"
      }
    },
    {
      "cell_type": "code",
      "source": [
        "img = np.zeros((512,512,3), np.uint8)\n",
        "\n",
        "cv2.line(img, (0,0), (511,0), (0,0,255), 15)\n",
        "cv2.line(img, (256,0), (256,511), (0,0,255), 15)\n",
        "\n",
        "plt.imshow(cv2.cvtColor(img, cv2.COLOR_BGR2RGB))"
      ],
      "metadata": {
        "colab": {
          "base_uri": "https://localhost:8080/",
          "height": 286
        },
        "id": "0iksHKOObmo5",
        "outputId": "ae59889b-c4dd-49fb-dc62-fd7e698878fd"
      },
      "execution_count": 28,
      "outputs": [
        {
          "output_type": "execute_result",
          "data": {
            "text/plain": [
              "<matplotlib.image.AxesImage at 0x7f1eaaaadf70>"
            ]
          },
          "metadata": {},
          "execution_count": 28
        },
        {
          "output_type": "display_data",
          "data": {
            "text/plain": [
              "<Figure size 432x288 with 1 Axes>"
            ],
            "image/png": "[encoded data removed]"
          },
          "metadata": {
            "needs_background": "light"
          }
        }
      ]
    },
    {
      "cell_type": "markdown",
      "source": [
        "## **Drawing Rectangles**\n",
        "\n",
        "```\n",
        "cv2.rectangle(image, starting vertex, opposite vertex, color, thickness)\n",
        "```\n",
        "\n"
      ],
      "metadata": {
        "id": "TLKKPd-9eZKZ"
      }
    },
    {
      "cell_type": "code",
      "source": [
        "img2 = np.zeros((512,512,3), np.uint8)+255\n",
        "\n",
        "cv2.rectangle(img2,(100,100), (400,400), (255,0,0), 10 )\n",
        "plt.imshow(cv2.cvtColor(img2, cv2.COLOR_BGR2RGB))"
      ],
      "metadata": {
        "colab": {
          "base_uri": "https://localhost:8080/",
          "height": 286
        },
        "id": "GA0C9A_DeK6d",
        "outputId": "641c397a-58b3-453a-c982-97f2dba652e6"
      },
      "execution_count": 37,
      "outputs": [
        {
          "output_type": "execute_result",
          "data": {
            "text/plain": [
              "<matplotlib.image.AxesImage at 0x7f1eaa7feb80>"
            ]
          },
          "metadata": {},
          "execution_count": 37
        },
        {
          "output_type": "display_data",
          "data": {
            "text/plain": [
              "<Figure size 432x288 with 1 Axes>"
            ],
            "image/png": "[encoded data removed]"
          },
          "metadata": {
            "needs_background": "light"
          }
        }
      ]
    },
    {
      "cell_type": "code",
      "source": [
        "img2 = np.zeros((512,512,3), np.uint8)+255\n",
        "\n",
        "cv2.rectangle(img2,(200,200), (300,300), (190, 255, 6), -1 )\n",
        "plt.imshow(cv2.cvtColor(img2, cv2.COLOR_BGR2RGB))"
      ],
      "metadata": {
        "colab": {
          "base_uri": "https://localhost:8080/",
          "height": 286
        },
        "id": "1y-_nSdXfMal",
        "outputId": "e055bded-bf06-4782-a17c-6103727885d6"
      },
      "execution_count": 42,
      "outputs": [
        {
          "output_type": "execute_result",
          "data": {
            "text/plain": [
              "<matplotlib.image.AxesImage at 0x7f1eaa62d100>"
            ]
          },
          "metadata": {},
          "execution_count": 42
        },
        {
          "output_type": "display_data",
          "data": {
            "text/plain": [
              "<Figure size 432x288 with 1 Axes>"
            ],
            "image/png": "[encoded data removed]"
          },
          "metadata": {
            "needs_background": "light"
          }
        }
      ]
    },
    {
      "cell_type": "markdown",
      "source": [
        "## **Drawing cirlcles**\n",
        "\n",
        "```cv2.cirlce(image, center, radius, color, fill)```"
      ],
      "metadata": {
        "id": "18Losa3IgkWx"
      }
    },
    {
      "cell_type": "code",
      "source": [
        "img = np.zeros((512,512,3), np.uint8)+255\n",
        "\n",
        "cv2.circle(img, (350, 350), 100, (15,150,50), cv2.FILLED) \n",
        "# cv2.circle(img, (350, 350), 100, (15,150,50), -1)  #ikiside aynı işelvi görüyor\n",
        "plt.imshow(cv2.cvtColor(img, cv2.COLOR_BGR2RGB))"
      ],
      "metadata": {
        "colab": {
          "base_uri": "https://localhost:8080/",
          "height": 286
        },
        "id": "2bOZPc9tgHcn",
        "outputId": "6014c7c7-e7e0-4391-e09e-64bb90affa6c"
      },
      "execution_count": 45,
      "outputs": [
        {
          "output_type": "execute_result",
          "data": {
            "text/plain": [
              "<matplotlib.image.AxesImage at 0x7f1eaa526850>"
            ]
          },
          "metadata": {},
          "execution_count": 45
        },
        {
          "output_type": "display_data",
          "data": {
            "text/plain": [
              "<Figure size 432x288 with 1 Axes>"
            ],
            "image/png": "[encoded data removed]"
          },
          "metadata": {
            "needs_background": "light"
          }
        }
      ]
    },
    {
      "cell_type": "markdown",
      "source": [
        "## **Text**\n",
        "\n",
        "```\n",
        "cv2.putText(image, 'Text to Display', bottom left starting point, Font, Font Size, Color, Thickness)\n",
        "```\n",
        "\n",
        "**Available Fonts**\n",
        "- FONT_HERSHEY_SIMPLEX, FONT_HERSHEY_PLAIN\n",
        "- FONT_HERSHEY_DUPLEX,FONT_HERSHEY_COMPLEX \n",
        "- FONT_HERSHEY_TRIPLEX, FONT_HERSHEY_COMPLEX_SMALL\n",
        "- FONT_HERSHEY_SCRIPT_SIMPLEX\n",
        "- FONT_HERSHEY_SCRIPT_COMPLEX\n",
        "\n"
      ],
      "metadata": {
        "id": "gLWSUGH_hRnb"
      }
    },
    {
      "cell_type": "code",
      "source": [
        "img = np.zeros((512,512,3), np.uint8)+255\n",
        "\n",
        "cv2.putText(img, 'Hello!', (155,290), cv2.FONT_HERSHEY_DUPLEX ,3, (145, 21, 201), 4)\n",
        "plt.imshow(cv2.cvtColor(img, cv2.COLOR_BGR2RGB))"
      ],
      "metadata": {
        "colab": {
          "base_uri": "https://localhost:8080/",
          "height": 286
        },
        "id": "uCzjTHY9hEH4",
        "outputId": "a22bbd04-5fe2-4aed-a948-28873f15252a"
      },
      "execution_count": 54,
      "outputs": [
        {
          "output_type": "execute_result",
          "data": {
            "text/plain": [
              "<matplotlib.image.AxesImage at 0x7f1eaa714fd0>"
            ]
          },
          "metadata": {},
          "execution_count": 54
        },
        {
          "output_type": "display_data",
          "data": {
            "text/plain": [
              "<Figure size 432x288 with 1 Axes>"
            ],
            "image/png": "[encoded data removed]"
          },
          "metadata": {
            "needs_background": "light"
          }
        }
      ]
    },
    {
      "cell_type": "code",
      "source": [],
      "metadata": {
        "id": "cgE-v58akks4"
      },
      "execution_count": null,
      "outputs": []
    }
  ]
}